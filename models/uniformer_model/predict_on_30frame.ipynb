{
 "cells": [
  {
   "cell_type": "code",
   "execution_count": 1,
   "metadata": {},
   "outputs": [],
   "source": [
    "from classes import load_model\n",
    "import torch\n",
    "import cv2\n",
    "import numpy as np\n",
    "import json\n",
    "\n",
    "from torchvision import transforms"
   ]
  },
  {
   "cell_type": "code",
   "execution_count": 2,
   "metadata": {},
   "outputs": [
    {
     "name": "stdout",
     "output_type": "stream",
     "text": [
      "['an', 'ban', 'ban dem', 'ban ngay', 'bo', 'cam on', 'choi', 'cuoi', 'di', 'di hoc', 'khoc', 'lam viec', 'me', 'moi ngay', 'sach', 'toi', 'viet', 'xem', 'xin chao', 'xin loi']\n"
     ]
    }
   ],
   "source": [
    "cap = cv2.VideoCapture(0)\n",
    "cap.set(cv2.CAP_PROP_FRAME_WIDTH, 640)\n",
    "cap.set(cv2.CAP_PROP_FRAME_HEIGHT, 480)\n",
    "crop_size = 480\n",
    "\n",
    "input_size = 160\n",
    "num_frames = 16 # get 1 drop 1\n",
    "threshold = 0.5\n",
    "transform = transforms.Compose([\n",
    "        transforms.ToPILImage(),\n",
    "        transforms.CenterCrop((crop_size,crop_size)),\n",
    "        # transforms.ColorJitter(brightness=(0.6,0.9),\n",
    "        #                           contrast=(0.6,0.9),\n",
    "        #                           hue=(-0.5,0.5),\n",
    "        #                           saturation=(0.7,0.9)),\n",
    "        # transforms.RandomRotation(3,expand=True),\n",
    "        transforms.Resize((input_size,input_size)),\n",
    "        transforms.ToTensor(),\n",
    "        # transforms.Normalize(input_mean, input_std)\n",
    "    ])\n",
    "\n",
    "with open(\"label_list.json\") as js:\n",
    "    actions = list(json.load(js).values())\n",
    "print(actions)\n",
    "\n",
    "model = load_model()"
   ]
  },
  {
   "cell_type": "code",
   "execution_count": 3,
   "metadata": {},
   "outputs": [],
   "source": [
    "def format_frame(frame):\n",
    "    frame = torch.tensor(frame,dtype=torch.float32)\n",
    "    frame = frame.permute(2, 0, 1)\n",
    "    frame = transform(frame)\n",
    "    return frame"
   ]
  },
  {
   "cell_type": "code",
   "execution_count": 6,
   "metadata": {},
   "outputs": [
    {
     "ename": "KeyboardInterrupt",
     "evalue": "",
     "output_type": "error",
     "traceback": [
      "\u001b[1;31m---------------------------------------------------------------------------\u001b[0m",
      "\u001b[1;31mKeyboardInterrupt\u001b[0m                         Traceback (most recent call last)",
      "Cell \u001b[1;32mIn[6], line 34\u001b[0m\n\u001b[0;32m     32\u001b[0m             \u001b[38;5;28;01mif\u001b[39;00m cv2\u001b[38;5;241m.\u001b[39mwaitKey(\u001b[38;5;241m2000\u001b[39m) \u001b[38;5;241m&\u001b[39m \u001b[38;5;241m0xFF\u001b[39m \u001b[38;5;241m==\u001b[39m \u001b[38;5;28mord\u001b[39m(\u001b[38;5;124m'\u001b[39m\u001b[38;5;124mq\u001b[39m\u001b[38;5;124m'\u001b[39m):\n\u001b[0;32m     33\u001b[0m                 \u001b[38;5;28;01mbreak\u001b[39;00m\n\u001b[1;32m---> 34\u001b[0m     \u001b[38;5;28;01mif\u001b[39;00m \u001b[43mcv2\u001b[49m\u001b[38;5;241;43m.\u001b[39;49m\u001b[43mwaitKey\u001b[49m\u001b[43m(\u001b[49m\u001b[38;5;241;43m100\u001b[39;49m\u001b[43m)\u001b[49m \u001b[38;5;241m&\u001b[39m \u001b[38;5;241m0xFF\u001b[39m \u001b[38;5;241m==\u001b[39m \u001b[38;5;28mord\u001b[39m(\u001b[38;5;124m'\u001b[39m\u001b[38;5;124mq\u001b[39m\u001b[38;5;124m'\u001b[39m):\n\u001b[0;32m     35\u001b[0m         \u001b[38;5;28;01mbreak\u001b[39;00m\n\u001b[0;32m     36\u001b[0m cap\u001b[38;5;241m.\u001b[39mrelease()\n",
      "\u001b[1;31mKeyboardInterrupt\u001b[0m: "
     ]
    }
   ],
   "source": [
    "n = 0\n",
    "drop = False\n",
    "while cap.isOpened():\n",
    "    ret, frame = cap.read()\n",
    "    if not ret:\n",
    "        break\n",
    "    if drop:\n",
    "        drop = False\n",
    "        continue\n",
    "    else:\n",
    "        drop = True\n",
    "        image = cv2.flip(frame,1) # this is for showing\n",
    "        frame = cv2.cvtColor(frame, cv2.COLOR_BGR2RGB)\n",
    "        frame = format_frame(frame)\n",
    "        if n<16:\n",
    "            if n == 0:\n",
    "                sequence = frame.unsqueeze(0)\n",
    "            else:\n",
    "                sequence = torch.cat((sequence, frame.unsqueeze(0)), dim=0)\n",
    "            n += 1\n",
    "            cv2.imshow(\"FullScreen\", image)\n",
    "        else:\n",
    "            sequence = sequence.permute(1,0,2,3)\n",
    "            output = model(sequence.expand(1,3,16,160,160))\n",
    "            output = output.detach().numpy()\n",
    "            sequence = None\n",
    "            label = actions[np.argmax(output)]\n",
    "            n = 0\n",
    "            cv2.putText(image, f'Predicted: {label}', (80,150), \n",
    "                                cv2.FONT_HERSHEY_SIMPLEX, 1, (0,255, 0), 4, cv2.LINE_AA)\n",
    "            cv2.imshow(\"FullScreen\", image)\n",
    "            if cv2.waitKey(2000) & 0xFF == ord('q'):\n",
    "                break\n",
    "    if cv2.waitKey(100) & 0xFF == ord('q'):\n",
    "        break\n",
    "cap.release()\n",
    "cv2.destroyAllWindows()"
   ]
  }
 ],
 "metadata": {
  "kernelspec": {
   "display_name": "Python 3",
   "language": "python",
   "name": "python3"
  },
  "language_info": {
   "codemirror_mode": {
    "name": "ipython",
    "version": 3
   },
   "file_extension": ".py",
   "mimetype": "text/x-python",
   "name": "python",
   "nbconvert_exporter": "python",
   "pygments_lexer": "ipython3",
   "version": "3.11.2"
  }
 },
 "nbformat": 4,
 "nbformat_minor": 2
}
